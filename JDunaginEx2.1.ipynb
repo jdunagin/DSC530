{
 "cells": [
  {
   "cell_type": "code",
   "execution_count": 1,
   "metadata": {},
   "outputs": [
    {
     "name": "stdout",
     "output_type": "stream",
     "text": [
      "Hello World! I wonder why that is always the default coding text to start with.\n",
      "7\n",
      "8\n",
      "54\n",
      "5.0\n",
      "HelloWorld\n",
      "[1, 2, 3, 4]\n",
      "[1, 2, 3, 4, 5]\n",
      "(6, 7, 8, 9)\n"
     ]
    }
   ],
   "source": [
    "# DSC 530\n",
    "# Jeff Dunagin\n",
    "# Exercise 2.1\n",
    "\n",
    "# I'm going to print the value of each operation that I do\n",
    "print('Hello World! I wonder why that is always the default coding text to start with.')\n",
    "a = 3 + 4\n",
    "print(a)\n",
    "b = 10 - 2\n",
    "print(b)\n",
    "c = 6 * 9\n",
    "print(c)\n",
    "d = 40 / 8\n",
    "print(d)\n",
    "string = 'Hello' + 'World'\n",
    "print(string)\n",
    "my_list = [1,2,3,4]\n",
    "print(my_list)\n",
    "my_list.append(5)\n",
    "print(my_list)\n",
    "my_tuple = (6,7,8,9)\n",
    "print(my_tuple)"
   ]
  }
 ],
 "metadata": {
  "kernelspec": {
   "display_name": "Python 3",
   "language": "python",
   "name": "python3"
  },
  "language_info": {
   "codemirror_mode": {
    "name": "ipython",
    "version": 3
   },
   "file_extension": ".py",
   "mimetype": "text/x-python",
   "name": "python",
   "nbconvert_exporter": "python",
   "pygments_lexer": "ipython3",
   "version": "3.8.5"
  }
 },
 "nbformat": 4,
 "nbformat_minor": 4
}
