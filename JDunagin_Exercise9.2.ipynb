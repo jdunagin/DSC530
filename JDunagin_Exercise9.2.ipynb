{
 "cells": [
  {
   "cell_type": "markdown",
   "metadata": {},
   "source": [
    "Jeffrey Dunagin\n",
    "\n",
    "Homework 9.2\n",
    "\n",
    "DSC 530\n",
    "\n",
    "13 February 2022"
   ]
  },
  {
   "cell_type": "markdown",
   "metadata": {},
   "source": [
    "# 11.1\n",
    "Suppose one of your co-workers is expecting a baby and you are participating in an office pool to predict the date of birth. Assuming that bets are placed during the 30th week of pregnancy, what variables could you use to make the best prediction? You should limit yourself to variables that are known before the birth, and likely to be available to the people in the pool."
   ]
  },
  {
   "cell_type": "code",
   "execution_count": 2,
   "metadata": {},
   "outputs": [],
   "source": [
    "# import data\n",
    "import first\n",
    "live, firsts, others = first.MakeFrames()\n",
    "\n",
    "# only use data for pregnancy length > 30 weeks\n",
    "live = live[live.prglngth>30]"
   ]
  },
  {
   "cell_type": "code",
   "execution_count": 9,
   "metadata": {},
   "outputs": [],
   "source": [
    "# join data sets\n",
    "import chap01soln\n",
    "\n",
    "resp = chap01soln.ReadFemResp()\n",
    "resp.index = resp.caseid\n",
    "join = live.join(resp, on='caseid', rsuffix='_r')"
   ]
  },
  {
   "cell_type": "code",
   "execution_count": null,
   "metadata": {},
   "outputs": [],
   "source": [
    "# find significant variables\n",
    "import statsmodels.formula.api as smf\n",
    "\n",
    "t = []\n",
    "for name in join.columns:\n",
    "    try:\n",
    "        if join[name].var() < 1e-7:\n",
    "            continue\n",
    "        formula = 'prglngth ~ agepreg + ' + name\n",
    "        model = smf.ols(formula, data=join)\n",
    "        if model.nobs < len(join)/2:\n",
    "            continue\n",
    "        \n",
    "        results = model.fit()\n",
    "    except (ValueError, TypeError):\n",
    "        continue\n",
    "    t.append((results.rsquared, name))"
   ]
  },
  {
   "cell_type": "code",
   "execution_count": 14,
   "metadata": {},
   "outputs": [
    {
     "name": "stdout",
     "output_type": "stream",
     "text": [
      "prglngth 1.0\n",
      "wksgest 0.8065115675039275\n",
      "agecon 0.7772278070905594\n",
      "totalwgt_lb 0.12550330803309884\n",
      "birthwgt_lb 0.12067945355791987\n",
      "lbw1 0.10383887474318443\n",
      "mosgest 0.09562434659774621\n",
      "prglngth_i 0.0224184207536523\n",
      "canhaver 0.006072881692014254\n",
      "datcon01_i 0.005880867019011138\n",
      "con1mar1_i 0.005607617892541494\n",
      "nbrnaliv 0.0045801411639411205\n",
      "mar1con1_i 0.003182814238067544\n",
      "anynurse 0.0029184839813637398\n",
      "bfeedwks 0.00256701215878008\n",
      "rmarout11_i 0.002264199389525934\n",
      "marout11_i 0.002264199389525934\n",
      "marcon11_i 0.002264199389525934\n",
      "pregend1 0.002249407606621956\n",
      "paydu 0.0021058815474742643\n",
      "cmlastlb_r 0.002047727311564107\n",
      "cmlastlb 0.002047727311564107\n",
      "datend02_i 0.0020339854256564704\n",
      "datcon02_i 0.0020339854256564704\n",
      "agecon02_i 0.0020117622161546223\n",
      "agebaby1 0.0019800046816806915\n",
      "ageprg02_i 0.0019751611234412048\n",
      "fmarcon5_i 0.001971805916452851\n",
      "evuseint 0.0019247289345252216\n",
      "marcon03_i 0.0018174863473715552\n"
     ]
    }
   ],
   "source": [
    "# sort\n",
    "t.sort(reverse=True)\n",
    "for mse, name in t[:30]:\n",
    "    print(name, mse)"
   ]
  },
  {
   "cell_type": "markdown",
   "metadata": {},
   "source": [
    "Of the variables that we could possibly know, age of conception (agecon) has the best R^2 value, and therefore is the best predictor. The other good predictors (R^2 > 0.1) are not knowable in normal situations."
   ]
  },
  {
   "cell_type": "markdown",
   "metadata": {},
   "source": [
    "# 11.3\n",
    "If the quantity you want to predict is a count, you can use Poisson regression, which is implemented in StatsModels with a function called `poisson`. It works the same way as `ols` and `logit`. As an exercise, let’s use it to predict how many children a woman has born; in the NSFG dataset, this variable is called `numbabes`.\n",
    "\n",
    "Suppose you meet a woman who is 35 years old, black, and a college graduate whose annual household income exceeds $75,000. How many children would you predict she has born?"
   ]
  },
  {
   "cell_type": "code",
   "execution_count": 3,
   "metadata": {},
   "outputs": [],
   "source": [
    "# import data\n",
    "import nsfg\n",
    "\n",
    "live = live[live.prglngth>30]\n",
    "resp = nsfg.ReadFemResp()\n",
    "resp.index = resp.caseid\n",
    "join = live.join(resp, on='caseid', rsuffix='_r')"
   ]
  },
  {
   "cell_type": "code",
   "execution_count": 12,
   "metadata": {},
   "outputs": [
    {
     "name": "stdout",
     "output_type": "stream",
     "text": [
      "Optimization terminated successfully.\n",
      "         Current function value: 1.689226\n",
      "         Iterations 5\n"
     ]
    },
    {
     "data": {
      "text/html": [
       "<table class=\"simpletable\">\n",
       "<caption>Poisson Regression Results</caption>\n",
       "<tr>\n",
       "  <th>Dep. Variable:</th>       <td>numbabes</td>     <th>  No. Observations:  </th>   <td>  8884</td>  \n",
       "</tr>\n",
       "<tr>\n",
       "  <th>Model:</th>                <td>Poisson</td>     <th>  Df Residuals:      </th>   <td>  8879</td>  \n",
       "</tr>\n",
       "<tr>\n",
       "  <th>Method:</th>                 <td>MLE</td>       <th>  Df Model:          </th>   <td>     4</td>  \n",
       "</tr>\n",
       "<tr>\n",
       "  <th>Date:</th>            <td>Mon, 07 Feb 2022</td> <th>  Pseudo R-squ.:     </th>   <td>0.02984</td> \n",
       "</tr>\n",
       "<tr>\n",
       "  <th>Time:</th>                <td>02:40:37</td>     <th>  Log-Likelihood:    </th>  <td> -15007.</td> \n",
       "</tr>\n",
       "<tr>\n",
       "  <th>converged:</th>             <td>True</td>       <th>  LL-Null:           </th>  <td> -15469.</td> \n",
       "</tr>\n",
       "<tr>\n",
       "  <th>Covariance Type:</th>     <td>nonrobust</td>    <th>  LLR p-value:       </th> <td>1.519e-198</td>\n",
       "</tr>\n",
       "</table>\n",
       "<table class=\"simpletable\">\n",
       "<tr>\n",
       "      <td></td>         <th>coef</th>     <th>std err</th>      <th>z</th>      <th>P>|z|</th>  <th>[0.025</th>    <th>0.975]</th>  \n",
       "</tr>\n",
       "<tr>\n",
       "  <th>Intercept</th> <td>    1.1545</td> <td>    0.049</td> <td>   23.661</td> <td> 0.000</td> <td>    1.059</td> <td>    1.250</td>\n",
       "</tr>\n",
       "<tr>\n",
       "  <th>age_r</th>     <td>    0.0206</td> <td>    0.001</td> <td>   20.316</td> <td> 0.000</td> <td>    0.019</td> <td>    0.023</td>\n",
       "</tr>\n",
       "<tr>\n",
       "  <th>race</th>      <td>   -0.0802</td> <td>    0.011</td> <td>   -7.043</td> <td> 0.000</td> <td>   -0.102</td> <td>   -0.058</td>\n",
       "</tr>\n",
       "<tr>\n",
       "  <th>totincr</th>   <td>   -0.0198</td> <td>    0.002</td> <td>  -10.547</td> <td> 0.000</td> <td>   -0.023</td> <td>   -0.016</td>\n",
       "</tr>\n",
       "<tr>\n",
       "  <th>educat</th>    <td>   -0.0444</td> <td>    0.003</td> <td>  -15.162</td> <td> 0.000</td> <td>   -0.050</td> <td>   -0.039</td>\n",
       "</tr>\n",
       "</table>"
      ],
      "text/plain": [
       "<class 'statsmodels.iolib.summary.Summary'>\n",
       "\"\"\"\n",
       "                          Poisson Regression Results                          \n",
       "==============================================================================\n",
       "Dep. Variable:               numbabes   No. Observations:                 8884\n",
       "Model:                        Poisson   Df Residuals:                     8879\n",
       "Method:                           MLE   Df Model:                            4\n",
       "Date:                Mon, 07 Feb 2022   Pseudo R-squ.:                 0.02984\n",
       "Time:                        02:40:37   Log-Likelihood:                -15007.\n",
       "converged:                       True   LL-Null:                       -15469.\n",
       "Covariance Type:            nonrobust   LLR p-value:                1.519e-198\n",
       "==============================================================================\n",
       "                 coef    std err          z      P>|z|      [0.025      0.975]\n",
       "------------------------------------------------------------------------------\n",
       "Intercept      1.1545      0.049     23.661      0.000       1.059       1.250\n",
       "age_r          0.0206      0.001     20.316      0.000       0.019       0.023\n",
       "race          -0.0802      0.011     -7.043      0.000      -0.102      -0.058\n",
       "totincr       -0.0198      0.002    -10.547      0.000      -0.023      -0.016\n",
       "educat        -0.0444      0.003    -15.162      0.000      -0.050      -0.039\n",
       "==============================================================================\n",
       "\"\"\""
      ]
     },
     "execution_count": 12,
     "metadata": {},
     "output_type": "execute_result"
    }
   ],
   "source": [
    "# regression\n",
    "import statsmodels.formula.api as smf\n",
    "\n",
    "formula='numbabes ~ age_r + race + totincr + educat'\n",
    "model = smf.poisson(formula, data=join)\n",
    "results = model.fit()\n",
    "results.summary() "
   ]
  },
  {
   "cell_type": "code",
   "execution_count": 13,
   "metadata": {},
   "outputs": [
    {
     "data": {
      "text/plain": [
       "0    2.244372\n",
       "dtype: float64"
      ]
     },
     "execution_count": 13,
     "metadata": {},
     "output_type": "execute_result"
    }
   ],
   "source": [
    "# put in her info\n",
    "import pandas as pd\n",
    "\n",
    "columns = ['age_r', 'race', 'totincr', 'educat']\n",
    "new = pd.DataFrame([[35, 1, 14, 16]], columns=columns)\n",
    "results.predict(new)"
   ]
  },
  {
   "cell_type": "markdown",
   "metadata": {},
   "source": [
    "We predict her to have 2.24 children, or between 2 and 3."
   ]
  },
  {
   "cell_type": "markdown",
   "metadata": {},
   "source": [
    "# 11.4\n",
    "If the quantity you want to predict is categorical, you can use multinomial logistic regression, which is implemented in StatsModels with a function called `mnlogit`. As an exercise, let’s use it to guess whether a woman is married, cohabitating, widowed, divorced, separated, or never married; in the NSFG dataset, marital status is encoded in a variable called `rmarital`.\n",
    "\n",
    "Suppose you meet a woman who is 25 years old, white, and a high school graduate whose annual household income is about $45,000. What is the probability that she is married, cohabitating, etc?"
   ]
  },
  {
   "cell_type": "code",
   "execution_count": 16,
   "metadata": {},
   "outputs": [
    {
     "name": "stdout",
     "output_type": "stream",
     "text": [
      "Optimization terminated successfully.\n",
      "         Current function value: 1.100457\n",
      "         Iterations 8\n"
     ]
    },
    {
     "data": {
      "text/html": [
       "<table class=\"simpletable\">\n",
       "<caption>MNLogit Regression Results</caption>\n",
       "<tr>\n",
       "  <th>Dep. Variable:</th>       <td>rmarital</td>     <th>  No. Observations:  </th>  <td>  8884</td> \n",
       "</tr>\n",
       "<tr>\n",
       "  <th>Model:</th>                <td>MNLogit</td>     <th>  Df Residuals:      </th>  <td>  8859</td> \n",
       "</tr>\n",
       "<tr>\n",
       "  <th>Method:</th>                 <td>MLE</td>       <th>  Df Model:          </th>  <td>    20</td> \n",
       "</tr>\n",
       "<tr>\n",
       "  <th>Date:</th>            <td>Mon, 07 Feb 2022</td> <th>  Pseudo R-squ.:     </th>  <td>0.1557</td> \n",
       "</tr>\n",
       "<tr>\n",
       "  <th>Time:</th>                <td>02:41:11</td>     <th>  Log-Likelihood:    </th> <td> -9776.5</td>\n",
       "</tr>\n",
       "<tr>\n",
       "  <th>converged:</th>             <td>True</td>       <th>  LL-Null:           </th> <td> -11579.</td>\n",
       "</tr>\n",
       "<tr>\n",
       "  <th>Covariance Type:</th>     <td>nonrobust</td>    <th>  LLR p-value:       </th>  <td> 0.000</td> \n",
       "</tr>\n",
       "</table>\n",
       "<table class=\"simpletable\">\n",
       "<tr>\n",
       "  <th>rmarital=2</th>    <th>coef</th>     <th>std err</th>      <th>z</th>      <th>P>|z|</th>  <th>[0.025</th>    <th>0.975]</th>  \n",
       "</tr>\n",
       "<tr>\n",
       "  <th>Intercept</th>  <td>    4.7129</td> <td>    0.305</td> <td>   15.465</td> <td> 0.000</td> <td>    4.116</td> <td>    5.310</td>\n",
       "</tr>\n",
       "<tr>\n",
       "  <th>age_r</th>      <td>   -0.0563</td> <td>    0.006</td> <td>   -9.685</td> <td> 0.000</td> <td>   -0.068</td> <td>   -0.045</td>\n",
       "</tr>\n",
       "<tr>\n",
       "  <th>race</th>       <td>   -0.4868</td> <td>    0.067</td> <td>   -7.270</td> <td> 0.000</td> <td>   -0.618</td> <td>   -0.356</td>\n",
       "</tr>\n",
       "<tr>\n",
       "  <th>totincr</th>    <td>   -0.1384</td> <td>    0.011</td> <td>  -12.098</td> <td> 0.000</td> <td>   -0.161</td> <td>   -0.116</td>\n",
       "</tr>\n",
       "<tr>\n",
       "  <th>educat</th>     <td>   -0.2035</td> <td>    0.019</td> <td>  -10.965</td> <td> 0.000</td> <td>   -0.240</td> <td>   -0.167</td>\n",
       "</tr>\n",
       "<tr>\n",
       "  <th>rmarital=3</th>    <th>coef</th>     <th>std err</th>      <th>z</th>      <th>P>|z|</th>  <th>[0.025</th>    <th>0.975]</th>  \n",
       "</tr>\n",
       "<tr>\n",
       "  <th>Intercept</th>  <td>   -4.6351</td> <td>    0.971</td> <td>   -4.774</td> <td> 0.000</td> <td>   -6.538</td> <td>   -2.732</td>\n",
       "</tr>\n",
       "<tr>\n",
       "  <th>age_r</th>      <td>    0.1305</td> <td>    0.019</td> <td>    6.863</td> <td> 0.000</td> <td>    0.093</td> <td>    0.168</td>\n",
       "</tr>\n",
       "<tr>\n",
       "  <th>race</th>       <td>   -0.0856</td> <td>    0.169</td> <td>   -0.505</td> <td> 0.614</td> <td>   -0.418</td> <td>    0.246</td>\n",
       "</tr>\n",
       "<tr>\n",
       "  <th>totincr</th>    <td>   -0.3316</td> <td>    0.032</td> <td>  -10.439</td> <td> 0.000</td> <td>   -0.394</td> <td>   -0.269</td>\n",
       "</tr>\n",
       "<tr>\n",
       "  <th>educat</th>     <td>   -0.1015</td> <td>    0.048</td> <td>   -2.114</td> <td> 0.035</td> <td>   -0.196</td> <td>   -0.007</td>\n",
       "</tr>\n",
       "<tr>\n",
       "  <th>rmarital=4</th>    <th>coef</th>     <th>std err</th>      <th>z</th>      <th>P>|z|</th>  <th>[0.025</th>    <th>0.975]</th>  \n",
       "</tr>\n",
       "<tr>\n",
       "  <th>Intercept</th>  <td>   -2.3550</td> <td>    0.324</td> <td>   -7.267</td> <td> 0.000</td> <td>   -2.990</td> <td>   -1.720</td>\n",
       "</tr>\n",
       "<tr>\n",
       "  <th>age_r</th>      <td>    0.0640</td> <td>    0.007</td> <td>    9.785</td> <td> 0.000</td> <td>    0.051</td> <td>    0.077</td>\n",
       "</tr>\n",
       "<tr>\n",
       "  <th>race</th>       <td>   -0.3083</td> <td>    0.069</td> <td>   -4.500</td> <td> 0.000</td> <td>   -0.443</td> <td>   -0.174</td>\n",
       "</tr>\n",
       "<tr>\n",
       "  <th>totincr</th>    <td>   -0.2273</td> <td>    0.012</td> <td>  -19.696</td> <td> 0.000</td> <td>   -0.250</td> <td>   -0.205</td>\n",
       "</tr>\n",
       "<tr>\n",
       "  <th>educat</th>     <td>    0.0676</td> <td>    0.017</td> <td>    4.055</td> <td> 0.000</td> <td>    0.035</td> <td>    0.100</td>\n",
       "</tr>\n",
       "<tr>\n",
       "  <th>rmarital=5</th>    <th>coef</th>     <th>std err</th>      <th>z</th>      <th>P>|z|</th>  <th>[0.025</th>    <th>0.975]</th>  \n",
       "</tr>\n",
       "<tr>\n",
       "  <th>Intercept</th>  <td>    1.0714</td> <td>    0.372</td> <td>    2.882</td> <td> 0.004</td> <td>    0.343</td> <td>    1.800</td>\n",
       "</tr>\n",
       "<tr>\n",
       "  <th>age_r</th>      <td>    0.0072</td> <td>    0.007</td> <td>    1.003</td> <td> 0.316</td> <td>   -0.007</td> <td>    0.021</td>\n",
       "</tr>\n",
       "<tr>\n",
       "  <th>race</th>       <td>   -0.5091</td> <td>    0.079</td> <td>   -6.421</td> <td> 0.000</td> <td>   -0.664</td> <td>   -0.354</td>\n",
       "</tr>\n",
       "<tr>\n",
       "  <th>totincr</th>    <td>   -0.3022</td> <td>    0.014</td> <td>  -20.980</td> <td> 0.000</td> <td>   -0.330</td> <td>   -0.274</td>\n",
       "</tr>\n",
       "<tr>\n",
       "  <th>educat</th>     <td>   -0.0127</td> <td>    0.021</td> <td>   -0.599</td> <td> 0.549</td> <td>   -0.054</td> <td>    0.029</td>\n",
       "</tr>\n",
       "<tr>\n",
       "  <th>rmarital=6</th>    <th>coef</th>     <th>std err</th>      <th>z</th>      <th>P>|z|</th>  <th>[0.025</th>    <th>0.975]</th>  \n",
       "</tr>\n",
       "<tr>\n",
       "  <th>Intercept</th>  <td>    7.4843</td> <td>    0.296</td> <td>   25.261</td> <td> 0.000</td> <td>    6.904</td> <td>    8.065</td>\n",
       "</tr>\n",
       "<tr>\n",
       "  <th>age_r</th>      <td>   -0.0899</td> <td>    0.006</td> <td>  -15.973</td> <td> 0.000</td> <td>   -0.101</td> <td>   -0.079</td>\n",
       "</tr>\n",
       "<tr>\n",
       "  <th>race</th>       <td>   -1.5675</td> <td>    0.065</td> <td>  -24.037</td> <td> 0.000</td> <td>   -1.695</td> <td>   -1.440</td>\n",
       "</tr>\n",
       "<tr>\n",
       "  <th>totincr</th>    <td>   -0.3014</td> <td>    0.011</td> <td>  -26.346</td> <td> 0.000</td> <td>   -0.324</td> <td>   -0.279</td>\n",
       "</tr>\n",
       "<tr>\n",
       "  <th>educat</th>     <td>   -0.0747</td> <td>    0.017</td> <td>   -4.279</td> <td> 0.000</td> <td>   -0.109</td> <td>   -0.040</td>\n",
       "</tr>\n",
       "</table>"
      ],
      "text/plain": [
       "<class 'statsmodels.iolib.summary.Summary'>\n",
       "\"\"\"\n",
       "                          MNLogit Regression Results                          \n",
       "==============================================================================\n",
       "Dep. Variable:               rmarital   No. Observations:                 8884\n",
       "Model:                        MNLogit   Df Residuals:                     8859\n",
       "Method:                           MLE   Df Model:                           20\n",
       "Date:                Mon, 07 Feb 2022   Pseudo R-squ.:                  0.1557\n",
       "Time:                        02:41:11   Log-Likelihood:                -9776.5\n",
       "converged:                       True   LL-Null:                       -11579.\n",
       "Covariance Type:            nonrobust   LLR p-value:                     0.000\n",
       "==============================================================================\n",
       "rmarital=2       coef    std err          z      P>|z|      [0.025      0.975]\n",
       "------------------------------------------------------------------------------\n",
       "Intercept      4.7129      0.305     15.465      0.000       4.116       5.310\n",
       "age_r         -0.0563      0.006     -9.685      0.000      -0.068      -0.045\n",
       "race          -0.4868      0.067     -7.270      0.000      -0.618      -0.356\n",
       "totincr       -0.1384      0.011    -12.098      0.000      -0.161      -0.116\n",
       "educat        -0.2035      0.019    -10.965      0.000      -0.240      -0.167\n",
       "------------------------------------------------------------------------------\n",
       "rmarital=3       coef    std err          z      P>|z|      [0.025      0.975]\n",
       "------------------------------------------------------------------------------\n",
       "Intercept     -4.6351      0.971     -4.774      0.000      -6.538      -2.732\n",
       "age_r          0.1305      0.019      6.863      0.000       0.093       0.168\n",
       "race          -0.0856      0.169     -0.505      0.614      -0.418       0.246\n",
       "totincr       -0.3316      0.032    -10.439      0.000      -0.394      -0.269\n",
       "educat        -0.1015      0.048     -2.114      0.035      -0.196      -0.007\n",
       "------------------------------------------------------------------------------\n",
       "rmarital=4       coef    std err          z      P>|z|      [0.025      0.975]\n",
       "------------------------------------------------------------------------------\n",
       "Intercept     -2.3550      0.324     -7.267      0.000      -2.990      -1.720\n",
       "age_r          0.0640      0.007      9.785      0.000       0.051       0.077\n",
       "race          -0.3083      0.069     -4.500      0.000      -0.443      -0.174\n",
       "totincr       -0.2273      0.012    -19.696      0.000      -0.250      -0.205\n",
       "educat         0.0676      0.017      4.055      0.000       0.035       0.100\n",
       "------------------------------------------------------------------------------\n",
       "rmarital=5       coef    std err          z      P>|z|      [0.025      0.975]\n",
       "------------------------------------------------------------------------------\n",
       "Intercept      1.0714      0.372      2.882      0.004       0.343       1.800\n",
       "age_r          0.0072      0.007      1.003      0.316      -0.007       0.021\n",
       "race          -0.5091      0.079     -6.421      0.000      -0.664      -0.354\n",
       "totincr       -0.3022      0.014    -20.980      0.000      -0.330      -0.274\n",
       "educat        -0.0127      0.021     -0.599      0.549      -0.054       0.029\n",
       "------------------------------------------------------------------------------\n",
       "rmarital=6       coef    std err          z      P>|z|      [0.025      0.975]\n",
       "------------------------------------------------------------------------------\n",
       "Intercept      7.4843      0.296     25.261      0.000       6.904       8.065\n",
       "age_r         -0.0899      0.006    -15.973      0.000      -0.101      -0.079\n",
       "race          -1.5675      0.065    -24.037      0.000      -1.695      -1.440\n",
       "totincr       -0.3014      0.011    -26.346      0.000      -0.324      -0.279\n",
       "educat        -0.0747      0.017     -4.279      0.000      -0.109      -0.040\n",
       "==============================================================================\n",
       "\"\"\""
      ]
     },
     "execution_count": 16,
     "metadata": {},
     "output_type": "execute_result"
    }
   ],
   "source": [
    "formula='rmarital ~ age_r + race + totincr + educat'\n",
    "model = smf.mnlogit(formula, data=join)\n",
    "results = model.fit()\n",
    "results.summary() "
   ]
  },
  {
   "cell_type": "code",
   "execution_count": 17,
   "metadata": {},
   "outputs": [
    {
     "data": {
      "text/html": [
       "<div>\n",
       "<style scoped>\n",
       "    .dataframe tbody tr th:only-of-type {\n",
       "        vertical-align: middle;\n",
       "    }\n",
       "\n",
       "    .dataframe tbody tr th {\n",
       "        vertical-align: top;\n",
       "    }\n",
       "\n",
       "    .dataframe thead th {\n",
       "        text-align: right;\n",
       "    }\n",
       "</style>\n",
       "<table border=\"1\" class=\"dataframe\">\n",
       "  <thead>\n",
       "    <tr style=\"text-align: right;\">\n",
       "      <th></th>\n",
       "      <th>0</th>\n",
       "      <th>1</th>\n",
       "      <th>2</th>\n",
       "      <th>3</th>\n",
       "      <th>4</th>\n",
       "      <th>5</th>\n",
       "    </tr>\n",
       "  </thead>\n",
       "  <tbody>\n",
       "    <tr>\n",
       "      <th>0</th>\n",
       "      <td>0.712204</td>\n",
       "      <td>0.139107</td>\n",
       "      <td>0.001173</td>\n",
       "      <td>0.033348</td>\n",
       "      <td>0.02781</td>\n",
       "      <td>0.086358</td>\n",
       "    </tr>\n",
       "  </tbody>\n",
       "</table>\n",
       "</div>"
      ],
      "text/plain": [
       "          0         1         2         3        4         5\n",
       "0  0.712204  0.139107  0.001173  0.033348  0.02781  0.086358"
      ]
     },
     "execution_count": 17,
     "metadata": {},
     "output_type": "execute_result"
    }
   ],
   "source": [
    "columns = ['age_r', 'race', 'totincr', 'educat']\n",
    "new = pd.DataFrame([[25, 2, 11, 12]], columns=columns)\n",
    "results.predict(new)"
   ]
  },
  {
   "cell_type": "markdown",
   "metadata": {},
   "source": [
    "71% chance of being married, 14% chance of not being married but living with opposite sex partner."
   ]
  },
  {
   "cell_type": "code",
   "execution_count": null,
   "metadata": {},
   "outputs": [],
   "source": []
  }
 ],
 "metadata": {
  "kernelspec": {
   "display_name": "Python 3",
   "language": "python",
   "name": "python3"
  },
  "language_info": {
   "codemirror_mode": {
    "name": "ipython",
    "version": 3
   },
   "file_extension": ".py",
   "mimetype": "text/x-python",
   "name": "python",
   "nbconvert_exporter": "python",
   "pygments_lexer": "ipython3",
   "version": "3.8.5"
  }
 },
 "nbformat": 4,
 "nbformat_minor": 4
}
